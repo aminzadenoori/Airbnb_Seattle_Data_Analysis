{
  "nbformat": 4,
  "nbformat_minor": 0,
  "metadata": {
    "colab": {
      "name": "Airbnb part 3.ipynb",
      "provenance": [],
      "authorship_tag": "ABX9TyOzq79WGS6YOt6gZUjWOWpu",
      "include_colab_link": true
    },
    "kernelspec": {
      "name": "python3",
      "display_name": "Python 3"
    },
    "language_info": {
      "name": "python"
    }
  },
  "cells": [
    {
      "cell_type": "markdown",
      "metadata": {
        "id": "view-in-github",
        "colab_type": "text"
      },
      "source": [
        "<a href=\"https://colab.research.google.com/github/aminzadenoori/Airbnb_Seattle_Data_Analysis/blob/main/Airbnb_Seattle_Price_Prediction_XGBoost.ipynb\" target=\"_parent\"><img src=\"https://colab.research.google.com/assets/colab-badge.svg\" alt=\"Open In Colab\"/></a>"
      ]
    },
    {
      "cell_type": "code",
      "metadata": {
        "id": "vdeITAyJt9mq"
      },
      "source": [
        "#Import linear algebra and data manipulation\n",
        "import numpy as np\n",
        "import pandas as pd\n",
        "\n",
        "#Import plotting packages\n",
        "import matplotlib.pyplot as plt\n",
        "%matplotlib inline\n",
        "import seaborn as sns\n",
        "\n",
        "from sklearn.model_selection import train_test_split\n",
        "from sklearn.metrics import r2_score, mean_squared_error \n",
        "\n",
        "#Import machine learning\n",
        "from sklearn.linear_model import LinearRegression\n",
        "from sklearn.ensemble import RandomForestRegressor\n",
        "\n",
        "# import XGBoost\n",
        "import re\n",
        "import xgboost as xgb\n"
      ],
      "execution_count": 1,
      "outputs": []
    },
    {
      "cell_type": "code",
      "metadata": {
        "colab": {
          "base_uri": "https://localhost:8080/"
        },
        "id": "Z20a5HIM7wEE",
        "outputId": "6b6f45c9-db36-48e8-e42c-4ac83a1df8d7"
      },
      "source": [
        "#Columns in data \n",
        "df.info()"
      ],
      "execution_count": 10,
      "outputs": [
        {
          "output_type": "stream",
          "text": [
            "<class 'pandas.core.frame.DataFrame'>\n",
            "RangeIndex: 3818 entries, 0 to 3817\n",
            "Columns: 6004 entries, host_is_superhost to cancellation_policy_strict\n",
            "dtypes: float64(20), int64(17), uint8(5967)\n",
            "memory usage: 22.8 MB\n"
          ],
          "name": "stdout"
        }
      ]
    },
    {
      "cell_type": "code",
      "metadata": {
        "id": "93JD1EGo78zm"
      },
      "source": [
        "#drop not useful columns \n",
        "df=pd.read_csv(\"https://raw.githubusercontent.com/chaitanyakasaraneni/seattle_airbnb_dataAnalysis/master/data/listings.csv\")\n",
        "to_drop=['id', 'listing_url', 'name', 'summary', 'space', 'description',\n",
        "       'neighborhood_overview', 'notes', 'transit', 'thumbnail_url',\n",
        "       'medium_url', 'picture_url', 'xl_picture_url', 'host_id', 'host_url',\n",
        "       'host_name', 'host_since', 'host_location', 'host_about',\n",
        "       'host_response_time', 'host_response_rate', 'host_acceptance_rate',\n",
        "       'host_thumbnail_url', 'host_picture_url',\n",
        "       'first_review', 'last_review']\n",
        "df.drop(to_drop,axis=1,inplace=True)"
      ],
      "execution_count": null,
      "outputs": []
    },
    {
      "cell_type": "code",
      "metadata": {
        "id": "IMdUNbqzuEjI"
      },
      "source": [
        "#Remove $ sign and space and other chracters in values \n",
        "for c in ['cleaning_fee', 'security_deposit', 'price', 'extra_people']:\n",
        "    df[c] = df[c].replace('[^a-zA-Z0-9]', '', regex=True).apply(lambda x: float(x) / 100)\n",
        "#dropping constant feats  \n",
        "constant_feats = []\n",
        "binary_feats = []\n",
        "for c in df.columns:\n",
        "    if df[c].nunique() <= 1:\n",
        "        constant_feats.append(c)\n",
        "df.drop(constant_feats, axis=1, inplace=True)\n",
        "\n",
        "#binary feats\n",
        "binary_feats = []\n",
        "for c in df.columns:   \n",
        "    if df[c].nunique() == 2:\n",
        "        binary_feats.append(c)\n",
        "\n",
        "# Encode binary features\n",
        "for c in ['host_is_superhost', 'host_has_profile_pic', 'host_identity_verified',\n",
        "          'is_location_exact', 'instant_bookable', \n",
        "          'require_guest_profile_picture', 'require_guest_phone_verification']:\n",
        "    # Fill NA with default\n",
        "    df[c] = df[c].fillna('f')\n",
        "    df[c] = df[c].map({'f':0, 't':1})\n"
      ],
      "execution_count": 11,
      "outputs": []
    },
    {
      "cell_type": "code",
      "metadata": {
        "id": "KZ_SKJIoxS1Y"
      },
      "source": [
        "#Drop columns with more than 80% missing values\n",
        "df=df.dropna(thresh=0.8,axis=1);\n",
        "num_df=df.select_dtypes(exclude=['object'])"
      ],
      "execution_count": 12,
      "outputs": []
    },
    {
      "cell_type": "code",
      "metadata": {
        "id": "m8D2rP5uvVtz"
      },
      "source": [
        "#Impute the missing values of the numerical columns by mean \n",
        "df[num_df.columns]=df[num_df.columns].fillna(df[num_df.columns].mean());"
      ],
      "execution_count": 13,
      "outputs": []
    },
    {
      "cell_type": "code",
      "metadata": {
        "id": "vZZpAh7guvGy"
      },
      "source": [
        "#Categorical columns preperation  by adding dummingvalues\n",
        "categorical_df=df.select_dtypes(include=['object'])\n",
        "for col in  categorical_df.columns:\n",
        "    df = pd.concat([df.drop(col, axis=1), pd.get_dummies(df[col], prefix=col, prefix_sep='_',\n",
        "                            drop_first=True, dummy_na=False)], axis=1)\n",
        "#drop listing_id and year columns\n"
      ],
      "execution_count": 14,
      "outputs": []
    },
    {
      "cell_type": "code",
      "metadata": {
        "colab": {
          "base_uri": "https://localhost:8080/"
        },
        "id": "2FLblt0uAs1s",
        "outputId": "c2b96e1a-e710-4c25-90b5-4a83dc905ae1"
      },
      "source": [
        "#Prepare train and test\n",
        "\n",
        "regex = re.compile(r\"\\[|\\]|<\", re.IGNORECASE)\n",
        "df.columns = [regex.sub(\"_\", col) if any(x in str(col) for x in set(('[', ']', '<'))) else col for col in df.columns.values]\n",
        "\n",
        "X = df.drop(['price'],axis=1)\n",
        "\n",
        "y = np.log1p(df['price'])\n",
        "\n",
        "\n",
        "X_train, X_test, y_train, y_test = train_test_split(X, y, test_size = .3, random_state=42)\n",
        "\n",
        "\n",
        "#I will train Random Forest Regressor model\n",
        "# xg_reg = xgb.XGBRegressor(objective ='reg:linear', colsample_bytree = 0.3, learning_rate = 0.1,\n",
        "                #  max_depth = 5, alpha = 10, n_estimators = 10)\n",
        "xg_reg=xgb.XGBRegressor()            \n",
        "xg_reg.fit(X_train,y_train)\n",
        "#forest.fit(X_train, y_train.squeeze())\n",
        "\n",
        "#calculate scores for the model\n",
        "y_train_preds = xg_reg.predict(X_train)\n",
        "y_test_preds = xg_reg.predict(X_test)\n",
        "\n",
        "print('Random Forest MSE train: %.3f, test: %.3f' % (\n",
        "        mean_squared_error(y_train, y_train_preds),\n",
        "        mean_squared_error(y_test, y_test_preds)))\n",
        "print('Random Forest R^2 train: %.3f, test: %.3f' % (\n",
        "        r2_score(y_train, y_train_preds),\n",
        "        r2_score(y_test, y_test_preds)))\n"
      ],
      "execution_count": 15,
      "outputs": [
        {
          "output_type": "stream",
          "text": [
            "[06:07:16] WARNING: /workspace/src/objective/regression_obj.cu:152: reg:linear is now deprecated in favor of reg:squarederror.\n",
            "Random Forest MSE train: 0.020, test: 0.029\n",
            "Random Forest R^2 train: 0.787, test: 0.715\n"
          ],
          "name": "stdout"
        }
      ]
    },
    {
      "cell_type": "code",
      "metadata": {
        "colab": {
          "base_uri": "https://localhost:8080/",
          "height": 639
        },
        "id": "W54ebh2iFr6S",
        "outputId": "eec1e409-8cb0-43c8-97a5-ab4d30d7d0a2"
      },
      "source": [
        "#Visualize the most important feartures of XGBoost\n",
        "fig, ax = plt.subplots(figsize=(8, 10))\n",
        "xgb.plot_importance(xg_reg, max_num_features=10, height=0.8, ax=ax)\n"
      ],
      "execution_count": 9,
      "outputs": [
        {
          "output_type": "execute_result",
          "data": {
            "text/plain": [
              "<matplotlib.axes._subplots.AxesSubplot at 0x7f0d8f3b1050>"
            ]
          },
          "metadata": {
            "tags": []
          },
          "execution_count": 9
        },
        {
          "output_type": "display_data",
          "data": {
            "image/png": "[encoded data removed]",
            "text/plain": [
              "<Figure size 576x720 with 1 Axes>"
            ]
          },
          "metadata": {
            "tags": [],
            "needs_background": "light"
          }
        }
      ]
    }
  ]
}